{
  "nbformat": 4,
  "nbformat_minor": 0,
  "metadata": {
    "colab": {
      "provenance": []
    },
    "kernelspec": {
      "name": "python3",
      "display_name": "Python 3"
    },
    "language_info": {
      "name": "python"
    }
  },
  "cells": [
    {
      "cell_type": "code",
      "execution_count": 3,
      "metadata": {
        "id": "u9NVU0R-UbUg"
      },
      "outputs": [],
      "source": [
        "import numpy as numpy\n",
        "import pandas as pd"
      ]
    },
    {
      "cell_type": "code",
      "source": [
        "df=pd.read_csv('https://raw.githubusercontent.com/campusx-official/100-days-of-machine-learning/main/kmeans/student_clustering.csv')"
      ],
      "metadata": {
        "id": "xdkQmbY9VUdq"
      },
      "execution_count": 4,
      "outputs": []
    },
    {
      "cell_type": "code",
      "source": [
        "df.head()"
      ],
      "metadata": {
        "colab": {
          "base_uri": "https://localhost:8080/",
          "height": 206
        },
        "id": "YLTplNtEVdBU",
        "outputId": "08d0dfc5-7235-4d11-d4f7-4ec6273e4c10"
      },
      "execution_count": 5,
      "outputs": [
        {
          "output_type": "execute_result",
          "data": {
            "text/plain": [
              "   cgpa   iq\n",
              "0  5.13   88\n",
              "1  5.90  113\n",
              "2  8.36   93\n",
              "3  8.27   97\n",
              "4  5.45  110"
            ],
            "text/html": [
              "\n",
              "  <div id=\"df-2104b013-126b-4b8a-88b5-8222bf10e1d9\">\n",
              "    <div class=\"colab-df-container\">\n",
              "      <div>\n",
              "<style scoped>\n",
              "    .dataframe tbody tr th:only-of-type {\n",
              "        vertical-align: middle;\n",
              "    }\n",
              "\n",
              "    .dataframe tbody tr th {\n",
              "        vertical-align: top;\n",
              "    }\n",
              "\n",
              "    .dataframe thead th {\n",
              "        text-align: right;\n",
              "    }\n",
              "</style>\n",
              "<table border=\"1\" class=\"dataframe\">\n",
              "  <thead>\n",
              "    <tr style=\"text-align: right;\">\n",
              "      <th></th>\n",
              "      <th>cgpa</th>\n",
              "      <th>iq</th>\n",
              "    </tr>\n",
              "  </thead>\n",
              "  <tbody>\n",
              "    <tr>\n",
              "      <th>0</th>\n",
              "      <td>5.13</td>\n",
              "      <td>88</td>\n",
              "    </tr>\n",
              "    <tr>\n",
              "      <th>1</th>\n",
              "      <td>5.90</td>\n",
              "      <td>113</td>\n",
              "    </tr>\n",
              "    <tr>\n",
              "      <th>2</th>\n",
              "      <td>8.36</td>\n",
              "      <td>93</td>\n",
              "    </tr>\n",
              "    <tr>\n",
              "      <th>3</th>\n",
              "      <td>8.27</td>\n",
              "      <td>97</td>\n",
              "    </tr>\n",
              "    <tr>\n",
              "      <th>4</th>\n",
              "      <td>5.45</td>\n",
              "      <td>110</td>\n",
              "    </tr>\n",
              "  </tbody>\n",
              "</table>\n",
              "</div>\n",
              "      <button class=\"colab-df-convert\" onclick=\"convertToInteractive('df-2104b013-126b-4b8a-88b5-8222bf10e1d9')\"\n",
              "              title=\"Convert this dataframe to an interactive table.\"\n",
              "              style=\"display:none;\">\n",
              "        \n",
              "  <svg xmlns=\"http://www.w3.org/2000/svg\" height=\"24px\"viewBox=\"0 0 24 24\"\n",
              "       width=\"24px\">\n",
              "    <path d=\"M0 0h24v24H0V0z\" fill=\"none\"/>\n",
              "    <path d=\"M18.56 5.44l.94 2.06.94-2.06 2.06-.94-2.06-.94-.94-2.06-.94 2.06-2.06.94zm-11 1L8.5 8.5l.94-2.06 2.06-.94-2.06-.94L8.5 2.5l-.94 2.06-2.06.94zm10 10l.94 2.06.94-2.06 2.06-.94-2.06-.94-.94-2.06-.94 2.06-2.06.94z\"/><path d=\"M17.41 7.96l-1.37-1.37c-.4-.4-.92-.59-1.43-.59-.52 0-1.04.2-1.43.59L10.3 9.45l-7.72 7.72c-.78.78-.78 2.05 0 2.83L4 21.41c.39.39.9.59 1.41.59.51 0 1.02-.2 1.41-.59l7.78-7.78 2.81-2.81c.8-.78.8-2.07 0-2.86zM5.41 20L4 18.59l7.72-7.72 1.47 1.35L5.41 20z\"/>\n",
              "  </svg>\n",
              "      </button>\n",
              "      \n",
              "  <style>\n",
              "    .colab-df-container {\n",
              "      display:flex;\n",
              "      flex-wrap:wrap;\n",
              "      gap: 12px;\n",
              "    }\n",
              "\n",
              "    .colab-df-convert {\n",
              "      background-color: #E8F0FE;\n",
              "      border: none;\n",
              "      border-radius: 50%;\n",
              "      cursor: pointer;\n",
              "      display: none;\n",
              "      fill: #1967D2;\n",
              "      height: 32px;\n",
              "      padding: 0 0 0 0;\n",
              "      width: 32px;\n",
              "    }\n",
              "\n",
              "    .colab-df-convert:hover {\n",
              "      background-color: #E2EBFA;\n",
              "      box-shadow: 0px 1px 2px rgba(60, 64, 67, 0.3), 0px 1px 3px 1px rgba(60, 64, 67, 0.15);\n",
              "      fill: #174EA6;\n",
              "    }\n",
              "\n",
              "    [theme=dark] .colab-df-convert {\n",
              "      background-color: #3B4455;\n",
              "      fill: #D2E3FC;\n",
              "    }\n",
              "\n",
              "    [theme=dark] .colab-df-convert:hover {\n",
              "      background-color: #434B5C;\n",
              "      box-shadow: 0px 1px 3px 1px rgba(0, 0, 0, 0.15);\n",
              "      filter: drop-shadow(0px 1px 2px rgba(0, 0, 0, 0.3));\n",
              "      fill: #FFFFFF;\n",
              "    }\n",
              "  </style>\n",
              "\n",
              "      <script>\n",
              "        const buttonEl =\n",
              "          document.querySelector('#df-2104b013-126b-4b8a-88b5-8222bf10e1d9 button.colab-df-convert');\n",
              "        buttonEl.style.display =\n",
              "          google.colab.kernel.accessAllowed ? 'block' : 'none';\n",
              "\n",
              "        async function convertToInteractive(key) {\n",
              "          const element = document.querySelector('#df-2104b013-126b-4b8a-88b5-8222bf10e1d9');\n",
              "          const dataTable =\n",
              "            await google.colab.kernel.invokeFunction('convertToInteractive',\n",
              "                                                     [key], {});\n",
              "          if (!dataTable) return;\n",
              "\n",
              "          const docLinkHtml = 'Like what you see? Visit the ' +\n",
              "            '<a target=\"_blank\" href=https://colab.research.google.com/notebooks/data_table.ipynb>data table notebook</a>'\n",
              "            + ' to learn more about interactive tables.';\n",
              "          element.innerHTML = '';\n",
              "          dataTable['output_type'] = 'display_data';\n",
              "          await google.colab.output.renderOutput(dataTable, element);\n",
              "          const docLink = document.createElement('div');\n",
              "          docLink.innerHTML = docLinkHtml;\n",
              "          element.appendChild(docLink);\n",
              "        }\n",
              "      </script>\n",
              "    </div>\n",
              "  </div>\n",
              "  "
            ]
          },
          "metadata": {},
          "execution_count": 5
        }
      ]
    },
    {
      "cell_type": "code",
      "source": [
        "df.shape"
      ],
      "metadata": {
        "colab": {
          "base_uri": "https://localhost:8080/"
        },
        "id": "Lg3Jy2eLVgoF",
        "outputId": "f3dd4b7c-8df3-44a9-e438-d4fc52cfb117"
      },
      "execution_count": 7,
      "outputs": [
        {
          "output_type": "execute_result",
          "data": {
            "text/plain": [
              "(200, 2)"
            ]
          },
          "metadata": {},
          "execution_count": 7
        }
      ]
    },
    {
      "cell_type": "code",
      "source": [
        "import matplotlib.pyplot as plt"
      ],
      "metadata": {
        "id": "akXEQE7GViT1"
      },
      "execution_count": 8,
      "outputs": []
    },
    {
      "cell_type": "code",
      "source": [
        "plt.scatter(df['cgpa'],df['iq'])"
      ],
      "metadata": {
        "colab": {
          "base_uri": "https://localhost:8080/",
          "height": 447
        },
        "id": "uj-aPhGbVu5q",
        "outputId": "9321407d-3acc-440e-e963-cf41aa4f0d60"
      },
      "execution_count": 9,
      "outputs": [
        {
          "output_type": "execute_result",
          "data": {
            "text/plain": [
              "<matplotlib.collections.PathCollection at 0x7f6879c95160>"
            ]
          },
          "metadata": {},
          "execution_count": 9
        },
        {
          "output_type": "display_data",
          "data": {
            "text/plain": [
              "<Figure size 640x480 with 1 Axes>"
            ],
            "image/png": "[encoded data removed]"
          },
          "metadata": {}
        }
      ]
    },
    {
      "cell_type": "code",
      "source": [
        "#elbow method\n",
        "from sklearn.cluster import KMeans"
      ],
      "metadata": {
        "id": "xdTV8sC8V0S7"
      },
      "execution_count": 10,
      "outputs": []
    },
    {
      "cell_type": "code",
      "source": [
        "wcss=[]\n",
        "\n",
        "for i in range(1,11):\n",
        "    km=KMeans(n_clusters=i)\n",
        "    km.fit_predict(df)\n",
        "    wcss.append(km.inertia_)"
      ],
      "metadata": {
        "colab": {
          "base_uri": "https://localhost:8080/"
        },
        "id": "uqlP0GnoV_cx",
        "outputId": "6ba7ca5c-90de-4d14-8431-86570225fec1"
      },
      "execution_count": 12,
      "outputs": [
        {
          "output_type": "stream",
          "name": "stderr",
          "text": [
            "/usr/local/lib/python3.9/dist-packages/sklearn/cluster/_kmeans.py:870: FutureWarning: The default value of `n_init` will change from 10 to 'auto' in 1.4. Set the value of `n_init` explicitly to suppress the warning\n",
            "  warnings.warn(\n",
            "/usr/local/lib/python3.9/dist-packages/sklearn/cluster/_kmeans.py:870: FutureWarning: The default value of `n_init` will change from 10 to 'auto' in 1.4. Set the value of `n_init` explicitly to suppress the warning\n",
            "  warnings.warn(\n",
            "/usr/local/lib/python3.9/dist-packages/sklearn/cluster/_kmeans.py:870: FutureWarning: The default value of `n_init` will change from 10 to 'auto' in 1.4. Set the value of `n_init` explicitly to suppress the warning\n",
            "  warnings.warn(\n",
            "/usr/local/lib/python3.9/dist-packages/sklearn/cluster/_kmeans.py:870: FutureWarning: The default value of `n_init` will change from 10 to 'auto' in 1.4. Set the value of `n_init` explicitly to suppress the warning\n",
            "  warnings.warn(\n",
            "/usr/local/lib/python3.9/dist-packages/sklearn/cluster/_kmeans.py:870: FutureWarning: The default value of `n_init` will change from 10 to 'auto' in 1.4. Set the value of `n_init` explicitly to suppress the warning\n",
            "  warnings.warn(\n",
            "/usr/local/lib/python3.9/dist-packages/sklearn/cluster/_kmeans.py:870: FutureWarning: The default value of `n_init` will change from 10 to 'auto' in 1.4. Set the value of `n_init` explicitly to suppress the warning\n",
            "  warnings.warn(\n",
            "/usr/local/lib/python3.9/dist-packages/sklearn/cluster/_kmeans.py:870: FutureWarning: The default value of `n_init` will change from 10 to 'auto' in 1.4. Set the value of `n_init` explicitly to suppress the warning\n",
            "  warnings.warn(\n",
            "/usr/local/lib/python3.9/dist-packages/sklearn/cluster/_kmeans.py:870: FutureWarning: The default value of `n_init` will change from 10 to 'auto' in 1.4. Set the value of `n_init` explicitly to suppress the warning\n",
            "  warnings.warn(\n",
            "/usr/local/lib/python3.9/dist-packages/sklearn/cluster/_kmeans.py:870: FutureWarning: The default value of `n_init` will change from 10 to 'auto' in 1.4. Set the value of `n_init` explicitly to suppress the warning\n",
            "  warnings.warn(\n",
            "/usr/local/lib/python3.9/dist-packages/sklearn/cluster/_kmeans.py:870: FutureWarning: The default value of `n_init` will change from 10 to 'auto' in 1.4. Set the value of `n_init` explicitly to suppress the warning\n",
            "  warnings.warn(\n"
          ]
        }
      ]
    },
    {
      "cell_type": "code",
      "source": [
        "wcss"
      ],
      "metadata": {
        "colab": {
          "base_uri": "https://localhost:8080/"
        },
        "id": "YO8paNwIWQoN",
        "outputId": "0e14afe3-71ea-4c2e-97be-bd1f97144004"
      },
      "execution_count": 13,
      "outputs": [
        {
          "output_type": "execute_result",
          "data": {
            "text/plain": [
              "[29957.898288000004,\n",
              " 4184.141270000001,\n",
              " 2362.713349,\n",
              " 681.9696600000003,\n",
              " 514.1616803171116,\n",
              " 388.85240268759804,\n",
              " 302.5473746759042,\n",
              " 260.1499337861162,\n",
              " 206.31644521295692,\n",
              " 172.33069410898656]"
            ]
          },
          "metadata": {},
          "execution_count": 13
        }
      ]
    },
    {
      "cell_type": "code",
      "source": [
        "plt.plot(range(1,11),wcss)"
      ],
      "metadata": {
        "colab": {
          "base_uri": "https://localhost:8080/",
          "height": 447
        },
        "id": "KB92AtkNWW0D",
        "outputId": "1a1c733b-e7da-45dd-b38c-06bb30083f96"
      },
      "execution_count": 14,
      "outputs": [
        {
          "output_type": "execute_result",
          "data": {
            "text/plain": [
              "[<matplotlib.lines.Line2D at 0x7f686921e130>]"
            ]
          },
          "metadata": {},
          "execution_count": 14
        },
        {
          "output_type": "display_data",
          "data": {
            "text/plain": [
              "<Figure size 640x480 with 1 Axes>"
            ],
            "image/png": "[encoded data removed]"
          },
          "metadata": {}
        }
      ]
    },
    {
      "cell_type": "code",
      "source": [
        "#4 is elbow point\n",
        "#we get 4"
      ],
      "metadata": {
        "id": "Tw8qVM-WWhCo"
      },
      "execution_count": 15,
      "outputs": []
    },
    {
      "cell_type": "code",
      "source": [
        "x=df.iloc[:,:].values\n",
        "km=KMeans(n_clusters=4)\n",
        "y_means=km.fit_predict(x)"
      ],
      "metadata": {
        "colab": {
          "base_uri": "https://localhost:8080/"
        },
        "id": "eD5W5rvIWlru",
        "outputId": "01ad96d8-fc32-4387-882e-a2767006c357"
      },
      "execution_count": 17,
      "outputs": [
        {
          "output_type": "stream",
          "name": "stderr",
          "text": [
            "/usr/local/lib/python3.9/dist-packages/sklearn/cluster/_kmeans.py:870: FutureWarning: The default value of `n_init` will change from 10 to 'auto' in 1.4. Set the value of `n_init` explicitly to suppress the warning\n",
            "  warnings.warn(\n"
          ]
        }
      ]
    },
    {
      "cell_type": "code",
      "source": [
        "y_means"
      ],
      "metadata": {
        "colab": {
          "base_uri": "https://localhost:8080/"
        },
        "id": "W7V82B1OW13q",
        "outputId": "83e7a244-61d1-4ec5-9e52-f239e5749d50"
      },
      "execution_count": 18,
      "outputs": [
        {
          "output_type": "execute_result",
          "data": {
            "text/plain": [
              "array([2, 3, 0, 0, 3, 3, 0, 1, 3, 0, 2, 3, 0, 2, 3, 0, 3, 0, 3, 3, 0, 2,\n",
              "       0, 2, 2, 0, 2, 1, 0, 3, 1, 3, 1, 3, 0, 0, 1, 3, 2, 3, 2, 0, 0, 2,\n",
              "       1, 1, 0, 3, 1, 3, 2, 2, 1, 0, 1, 3, 3, 1, 3, 1, 3, 0, 0, 1, 2, 1,\n",
              "       0, 2, 3, 0, 3, 1, 0, 2, 3, 1, 3, 1, 2, 0, 0, 1, 3, 2, 1, 2, 1, 3,\n",
              "       1, 3, 1, 1, 0, 2, 0, 0, 1, 0, 2, 1, 3, 2, 2, 1, 2, 2, 0, 2, 1, 1,\n",
              "       0, 1, 3, 3, 0, 1, 0, 3, 1, 2, 2, 3, 0, 1, 0, 2, 0, 3, 2, 0, 0, 3,\n",
              "       2, 2, 3, 1, 3, 2, 0, 0, 0, 2, 3, 2, 2, 1, 2, 1, 3, 2, 1, 2, 1, 1,\n",
              "       2, 0, 3, 1, 3, 0, 2, 1, 3, 0, 1, 2, 3, 2, 2, 1, 1, 3, 1, 2, 2, 0,\n",
              "       1, 3, 2, 1, 1, 3, 3, 3, 0, 2, 0, 0, 1, 3, 0, 0, 2, 2, 0, 2, 1, 3,\n",
              "       3, 1], dtype=int32)"
            ]
          },
          "metadata": {},
          "execution_count": 18
        }
      ]
    },
    {
      "cell_type": "code",
      "source": [
        "x[y_means==0]#rows in cluster 1"
      ],
      "metadata": {
        "colab": {
          "base_uri": "https://localhost:8080/"
        },
        "id": "4hVVgeneW7Lj",
        "outputId": "b5f437d4-3cb7-4210-cb43-7b781cd77c10"
      },
      "execution_count": 19,
      "outputs": [
        {
          "output_type": "execute_result",
          "data": {
            "text/plain": [
              "array([[  8.36,  93.  ],\n",
              "       [  8.27,  97.  ],\n",
              "       [  8.41,  98.  ],\n",
              "       [  8.09,  94.  ],\n",
              "       [  8.16,  97.  ],\n",
              "       [  8.31,  95.  ],\n",
              "       [  7.87,  91.  ],\n",
              "       [  7.47,  98.  ],\n",
              "       [  7.78,  92.  ],\n",
              "       [  7.93,  98.  ],\n",
              "       [  8.04,  94.  ],\n",
              "       [  7.77,  96.  ],\n",
              "       [  8.  ,  96.  ],\n",
              "       [  8.43,  96.  ],\n",
              "       [  8.02,  93.  ],\n",
              "       [  8.14,  94.  ],\n",
              "       [  8.12,  96.  ],\n",
              "       [  8.34,  96.  ],\n",
              "       [  8.65,  95.  ],\n",
              "       [  8.53,  93.  ],\n",
              "       [  8.29,  95.  ],\n",
              "       [  7.93,  94.  ],\n",
              "       [  8.72,  92.  ],\n",
              "       [  8.14,  91.  ],\n",
              "       [  8.2 ,  92.  ],\n",
              "       [  8.67,  95.  ],\n",
              "       [  8.18,  94.  ],\n",
              "       [  8.61,  95.  ],\n",
              "       [  7.99,  92.  ],\n",
              "       [  8.08,  94.  ],\n",
              "       [  8.26,  91.  ],\n",
              "       [  8.25,  95.  ],\n",
              "       [  8.4 ,  93.  ],\n",
              "       [  7.84,  97.  ],\n",
              "       [  8.08,  98.  ],\n",
              "       [  8.25,  96.  ],\n",
              "       [  8.3 ,  93.  ],\n",
              "       [  7.9 , 100.  ],\n",
              "       [  7.97,  96.  ],\n",
              "       [  8.21,  94.  ],\n",
              "       [  8.23,  95.  ],\n",
              "       [  8.35,  93.  ],\n",
              "       [  8.33,  92.  ],\n",
              "       [  8.46,  98.  ],\n",
              "       [  7.89,  96.  ],\n",
              "       [  7.91,  93.  ],\n",
              "       [  8.23,  91.  ],\n",
              "       [  8.4 ,  93.  ],\n",
              "       [  8.44,  94.  ],\n",
              "       [  8.79,  96.  ]])"
            ]
          },
          "metadata": {},
          "execution_count": 19
        }
      ]
    },
    {
      "cell_type": "code",
      "source": [
        "x[y_means==1]#rows in cluster 2"
      ],
      "metadata": {
        "colab": {
          "base_uri": "https://localhost:8080/"
        },
        "id": "qzQRLbTFXFN4",
        "outputId": "1f92a219-85a9-400d-e5e9-6e416e0bfa65"
      },
      "execution_count": 20,
      "outputs": [
        {
          "output_type": "execute_result",
          "data": {
            "text/plain": [
              "array([[  8.8 , 115.  ],\n",
              "       [  9.18, 119.  ],\n",
              "       [  8.86, 117.  ],\n",
              "       [  8.83, 118.  ],\n",
              "       [  8.56, 118.  ],\n",
              "       [  8.96, 116.  ],\n",
              "       [  8.78, 116.  ],\n",
              "       [  8.45, 119.  ],\n",
              "       [  8.79, 116.  ],\n",
              "       [  8.81, 115.  ],\n",
              "       [  8.88, 115.  ],\n",
              "       [  9.07, 117.  ],\n",
              "       [  8.92, 118.  ],\n",
              "       [  8.75, 113.  ],\n",
              "       [  8.71, 116.  ],\n",
              "       [  8.86, 118.  ],\n",
              "       [  9.3 , 117.  ],\n",
              "       [  9.01, 121.  ],\n",
              "       [  8.97, 116.  ],\n",
              "       [  9.  , 117.  ],\n",
              "       [  8.76, 117.  ],\n",
              "       [  8.78, 117.  ],\n",
              "       [  9.23, 114.  ],\n",
              "       [  9.03, 118.  ],\n",
              "       [  9.13, 118.  ],\n",
              "       [  8.91, 119.  ],\n",
              "       [  8.98, 118.  ],\n",
              "       [  9.03, 118.  ],\n",
              "       [  8.86, 117.  ],\n",
              "       [  8.89, 118.  ],\n",
              "       [  8.97, 117.  ],\n",
              "       [  8.72, 119.  ],\n",
              "       [  8.93, 118.  ],\n",
              "       [  8.58, 118.  ],\n",
              "       [  8.94, 117.  ],\n",
              "       [  8.6 , 117.  ],\n",
              "       [  8.77, 117.  ],\n",
              "       [  8.81, 116.  ],\n",
              "       [  8.54, 118.  ],\n",
              "       [  8.97, 119.  ],\n",
              "       [  8.91, 117.  ],\n",
              "       [  8.68, 119.  ],\n",
              "       [  9.06, 120.  ],\n",
              "       [  8.9 , 117.  ],\n",
              "       [  8.94, 115.  ],\n",
              "       [  8.91, 115.  ],\n",
              "       [  8.91, 117.  ],\n",
              "       [  8.95, 116.  ],\n",
              "       [  8.57, 118.  ],\n",
              "       [  8.82, 117.  ]])"
            ]
          },
          "metadata": {},
          "execution_count": 20
        }
      ]
    },
    {
      "cell_type": "code",
      "source": [
        "x[y_means==2]#rows in cluster 3"
      ],
      "metadata": {
        "colab": {
          "base_uri": "https://localhost:8080/"
        },
        "id": "xiPjU4NAXIrl",
        "outputId": "c01bf9f6-8449-4937-e95c-d7677b62071f"
      },
      "execution_count": 21,
      "outputs": [
        {
          "output_type": "execute_result",
          "data": {
            "text/plain": [
              "array([[ 5.13, 88.  ],\n",
              "       [ 4.6 , 86.  ],\n",
              "       [ 5.  , 88.  ],\n",
              "       [ 4.86, 86.  ],\n",
              "       [ 4.78, 87.  ],\n",
              "       [ 4.96, 88.  ],\n",
              "       [ 4.86, 87.  ],\n",
              "       [ 5.44, 84.  ],\n",
              "       [ 5.34, 85.  ],\n",
              "       [ 5.31, 86.  ],\n",
              "       [ 5.14, 83.  ],\n",
              "       [ 4.95, 86.  ],\n",
              "       [ 5.21, 87.  ],\n",
              "       [ 4.91, 85.  ],\n",
              "       [ 5.28, 83.  ],\n",
              "       [ 5.15, 88.  ],\n",
              "       [ 4.9 , 85.  ],\n",
              "       [ 4.89, 88.  ],\n",
              "       [ 5.05, 86.  ],\n",
              "       [ 4.98, 91.  ],\n",
              "       [ 5.01, 86.  ],\n",
              "       [ 4.95, 88.  ],\n",
              "       [ 4.96, 89.  ],\n",
              "       [ 4.85, 86.  ],\n",
              "       [ 4.76, 90.  ],\n",
              "       [ 4.98, 87.  ],\n",
              "       [ 4.78, 87.  ],\n",
              "       [ 5.2 , 85.  ],\n",
              "       [ 5.05, 87.  ],\n",
              "       [ 5.01, 83.  ],\n",
              "       [ 4.77, 86.  ],\n",
              "       [ 4.68, 87.  ],\n",
              "       [ 4.81, 85.  ],\n",
              "       [ 5.03, 87.  ],\n",
              "       [ 4.98, 87.  ],\n",
              "       [ 5.32, 88.  ],\n",
              "       [ 4.86, 88.  ],\n",
              "       [ 4.89, 85.  ],\n",
              "       [ 4.88, 86.  ],\n",
              "       [ 5.01, 86.  ],\n",
              "       [ 4.67, 86.  ],\n",
              "       [ 5.15, 85.  ],\n",
              "       [ 4.97, 88.  ],\n",
              "       [ 4.87, 88.  ],\n",
              "       [ 5.2 , 89.  ],\n",
              "       [ 4.99, 88.  ],\n",
              "       [ 4.79, 88.  ],\n",
              "       [ 4.76, 89.  ],\n",
              "       [ 4.78, 85.  ],\n",
              "       [ 4.68, 89.  ]])"
            ]
          },
          "metadata": {},
          "execution_count": 21
        }
      ]
    },
    {
      "cell_type": "code",
      "source": [
        "plt.scatter(x[y_means==0,0],x[y_means==0,1],color='blue')\n",
        "plt.scatter(x[y_means==1,0],x[y_means==1,1],color='red')\n",
        "plt.scatter(x[y_means==2,0],x[y_means==2,1],color='green')\n",
        "plt.scatter(x[y_means==3,0],x[y_means==3,1],color='yellow')"
      ],
      "metadata": {
        "colab": {
          "base_uri": "https://localhost:8080/",
          "height": 447
        },
        "id": "GLqDxv_ZXKhy",
        "outputId": "8af7813b-87e8-4510-de36-f0d981e2da91"
      },
      "execution_count": 23,
      "outputs": [
        {
          "output_type": "execute_result",
          "data": {
            "text/plain": [
              "<matplotlib.collections.PathCollection at 0x7f6868f83490>"
            ]
          },
          "metadata": {},
          "execution_count": 23
        },
        {
          "output_type": "display_data",
          "data": {
            "text/plain": [
              "<Figure size 640x480 with 1 Axes>"
            ],
            "image/png": "[encoded data removed]"
          },
          "metadata": {}
        }
      ]
    },
    {
      "cell_type": "code",
      "source": [],
      "metadata": {
        "id": "9RjHc1ZPXnuU"
      },
      "execution_count": null,
      "outputs": []
    }
  ]
}