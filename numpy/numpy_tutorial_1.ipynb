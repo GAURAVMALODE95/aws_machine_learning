{
  "nbformat": 4,
  "nbformat_minor": 0,
  "metadata": {
    "colab": {
      "provenance": []
    },
    "kernelspec": {
      "name": "python3",
      "display_name": "Python 3"
    },
    "language_info": {
      "name": "python"
    }
  },
  "cells": [
    {
      "cell_type": "code",
      "execution_count": null,
      "metadata": {
        "id": "NPaiYAgt0lUa"
      },
      "outputs": [],
      "source": [
        "#numpy used for data analysis\n",
        "print(\"hello world\")#check"
      ]
    },
    {
      "cell_type": "code",
      "source": [
        "import numpy as np\n",
        "\n",
        "myarray=np.array([1,5,2,8,9,4])#simply array is created\n"
      ],
      "metadata": {
        "id": "EuDRx2Vk1ZoR"
      },
      "execution_count": 4,
      "outputs": []
    },
    {
      "cell_type": "code",
      "source": [
        "myarray"
      ],
      "metadata": {
        "id": "rdom4uXC3AOd"
      },
      "execution_count": null,
      "outputs": []
    },
    {
      "cell_type": "code",
      "source": [
        "new_array=np.array([12,13,5,15,16,777777],np.int8)#not showing 44 becoz of int8...which means 8 bit inters are d type\n",
        "new_array"
      ],
      "metadata": {
        "id": "uLDDrTA03Hrv"
      },
      "execution_count": null,
      "outputs": []
    },
    {
      "cell_type": "code",
      "source": [
        "myarray[0]#give 0th index"
      ],
      "metadata": {
        "id": "-_8j44_j35Vv"
      },
      "execution_count": null,
      "outputs": []
    },
    {
      "cell_type": "code",
      "source": [
        "#myarray[6]#6th index not avilable giving eror"
      ],
      "metadata": {
        "id": "5fQRqN-Z4uAA"
      },
      "execution_count": null,
      "outputs": []
    },
    {
      "cell_type": "code",
      "source": [
        "#2darray\n",
        "myarr=np.array([[1,5,2,4,3]])#2d array is  created\n",
        "myarr[0,1]\n",
        "myarr"
      ],
      "metadata": {
        "id": "wfY2_e2O4zvw"
      },
      "execution_count": null,
      "outputs": []
    },
    {
      "cell_type": "code",
      "source": [
        "myarr.shape#gives row and coloum"
      ],
      "metadata": {
        "id": "khbgpnuw5ZAa"
      },
      "execution_count": null,
      "outputs": []
    },
    {
      "cell_type": "code",
      "source": [
        "myarr.dtype#gives d type int-8,int-64 etc..."
      ],
      "metadata": {
        "id": "Zw4elRzm5v9a"
      },
      "execution_count": null,
      "outputs": []
    },
    {
      "cell_type": "code",
      "source": [
        "#changing the element\n",
        "myarr[0,1]=99\n",
        "myarr"
      ],
      "metadata": {
        "id": "euAUQRul6C96"
      },
      "execution_count": null,
      "outputs": []
    },
    {
      "cell_type": "code",
      "source": [
        "#5 ways to create array\n",
        "#1.list or tuple\n",
        "#2.functions\n",
        "#3.reading from disk\n",
        "#4.raw bytes\n",
        "#5.library functions\n"
      ],
      "metadata": {
        "id": "HOQfsgJ77QLr"
      },
      "execution_count": null,
      "outputs": []
    },
    {
      "cell_type": "code",
      "source": [
        "listarray=np.array([[1,2,3],[4,5,6],[7,8,9]])\n",
        "listarray"
      ],
      "metadata": {
        "id": "dIMeYMIU7-JH"
      },
      "execution_count": null,
      "outputs": []
    },
    {
      "cell_type": "code",
      "source": [
        "listarray.shape"
      ],
      "metadata": {
        "id": "sRO7tmdg8XvI"
      },
      "execution_count": null,
      "outputs": []
    },
    {
      "cell_type": "code",
      "source": [
        "listarray.size"
      ],
      "metadata": {
        "id": "GFW-alAi8son"
      },
      "execution_count": null,
      "outputs": []
    },
    {
      "cell_type": "code",
      "source": [
        "#2nd method\n",
        "zeros=np.zeros((2,5))"
      ],
      "metadata": {
        "id": "tbP8FU_I8utZ"
      },
      "execution_count": 24,
      "outputs": []
    },
    {
      "cell_type": "code",
      "source": [
        "zeros#array of zers is created"
      ],
      "metadata": {
        "id": "qvLdf_oz9Hve"
      },
      "execution_count": null,
      "outputs": []
    },
    {
      "cell_type": "code",
      "source": [
        "#method 3\n",
        "rng=np.arange(20)#create array of ele 20 as 1 2 3 4 5 6 7...\n",
        "rng"
      ],
      "metadata": {
        "id": "B1tPCH3Z9QKm"
      },
      "execution_count": null,
      "outputs": []
    },
    {
      "cell_type": "code",
      "source": [
        "a=np.linspace(1,50,12)#gives us equally spaced elements(start,end,how many ele?)\n",
        "a"
      ],
      "metadata": {
        "id": "8kVxtGt79veJ"
      },
      "execution_count": null,
      "outputs": []
    },
    {
      "cell_type": "code",
      "source": [
        "b=np.empty((3,3))#gives an 3by3 array with random elements present.\n",
        "b"
      ],
      "metadata": {
        "id": "bcOKE7jW-FWE"
      },
      "execution_count": null,
      "outputs": []
    },
    {
      "cell_type": "code",
      "source": [
        "#identity matrix\n",
        "c=np.identity(12)#12*12IDENTITY MATRIX\n",
        "c"
      ],
      "metadata": {
        "colab": {
          "base_uri": "https://localhost:8080/"
        },
        "id": "SIzIR2KQ-tgT",
        "outputId": "d6e9d975-6c20-4573-a611-ebf7a6892030"
      },
      "execution_count": 34,
      "outputs": [
        {
          "output_type": "execute_result",
          "data": {
            "text/plain": [
              "array([[1., 0., 0., 0., 0., 0., 0., 0., 0., 0., 0., 0.],\n",
              "       [0., 1., 0., 0., 0., 0., 0., 0., 0., 0., 0., 0.],\n",
              "       [0., 0., 1., 0., 0., 0., 0., 0., 0., 0., 0., 0.],\n",
              "       [0., 0., 0., 1., 0., 0., 0., 0., 0., 0., 0., 0.],\n",
              "       [0., 0., 0., 0., 1., 0., 0., 0., 0., 0., 0., 0.],\n",
              "       [0., 0., 0., 0., 0., 1., 0., 0., 0., 0., 0., 0.],\n",
              "       [0., 0., 0., 0., 0., 0., 1., 0., 0., 0., 0., 0.],\n",
              "       [0., 0., 0., 0., 0., 0., 0., 1., 0., 0., 0., 0.],\n",
              "       [0., 0., 0., 0., 0., 0., 0., 0., 1., 0., 0., 0.],\n",
              "       [0., 0., 0., 0., 0., 0., 0., 0., 0., 1., 0., 0.],\n",
              "       [0., 0., 0., 0., 0., 0., 0., 0., 0., 0., 1., 0.],\n",
              "       [0., 0., 0., 0., 0., 0., 0., 0., 0., 0., 0., 1.]])"
            ]
          },
          "metadata": {},
          "execution_count": 34
        }
      ]
    },
    {
      "cell_type": "code",
      "source": [
        "listarray.ravel()#reshape to 1d array\n"
      ],
      "metadata": {
        "colab": {
          "base_uri": "https://localhost:8080/"
        },
        "id": "K4tW0OuQ_blh",
        "outputId": "76c81710-a06d-4e47-82a0-90390c6e6b1f"
      },
      "execution_count": 35,
      "outputs": [
        {
          "output_type": "execute_result",
          "data": {
            "text/plain": [
              "array([[1, 2, 3],\n",
              "       [4, 5, 6],\n",
              "       [7, 8, 9]])"
            ]
          },
          "metadata": {},
          "execution_count": 35
        }
      ]
    },
    {
      "cell_type": "code",
      "source": [],
      "metadata": {
        "id": "nBxBdlihAQC1"
      },
      "execution_count": null,
      "outputs": []
    }
  ]
}