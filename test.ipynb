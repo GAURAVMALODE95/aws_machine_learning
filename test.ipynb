{
  "nbformat": 4,
  "nbformat_minor": 0,
  "metadata": {
    "colab": {
      "provenance": [],
      "authorship_tag": "ABX9TyM63IFSe2lcLoYbY8MYcCE2"
    },
    "kernelspec": {
      "name": "python3",
      "display_name": "Python 3"
    },
    "language_info": {
      "name": "python"
    }
  },
  "cells": [
    {
      "cell_type": "code",
      "execution_count": 1,
      "metadata": {
        "id": "bygeUZQn5qdu"
      },
      "outputs": [],
      "source": [
        "import numpy as np\n"
      ]
    }
  ]
}